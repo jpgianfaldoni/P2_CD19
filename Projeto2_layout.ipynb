{
 "cells": [
  {
   "cell_type": "markdown",
   "metadata": {},
   "source": [
    "# Projeto 2 - Ciência dos Dados"
   ]
  },
  {
   "cell_type": "markdown",
   "metadata": {},
   "source": [
    "Nome: _____\n",
    "\n",
    "Nome: _____"
   ]
  },
  {
   "cell_type": "markdown",
   "metadata": {},
   "source": [
    "Serão permitidos grupos de três pessoas, mas com uma rubrica mais exigente. Grupos deste tamanho precisarão fazer um questionário de avaliação de trabalho em equipe"
   ]
  },
  {
   "cell_type": "markdown",
   "metadata": {},
   "source": [
    "___\n",
    "# Classificador automático de sentimento\n"
   ]
  },
  {
   "cell_type": "markdown",
   "metadata": {},
   "source": [
    "## Preparando o ambiente no jupyter:"
   ]
  },
  {
   "cell_type": "code",
   "execution_count": 56,
   "metadata": {},
   "outputs": [],
   "source": [
    "%%capture\n",
    "\n",
    "#Instalando o tweepy\n",
    "!pip install tweepy"
   ]
  },
  {
   "cell_type": "code",
   "execution_count": 57,
   "metadata": {
    "jupyter": {
     "outputs_hidden": true
    }
   },
   "outputs": [],
   "source": [
    "import tweepy\n",
    "import math\n",
    "import os.path\n",
    "import pandas as pd\n",
    "import json\n",
    "from random import shuffle"
   ]
  },
  {
   "cell_type": "markdown",
   "metadata": {},
   "source": [
    "___\n",
    "## Autenticando no  Twitter\n",
    "\n",
    "* Conta: ***[Preencha aqui o id da sua conta. Ex: @fulano ]***"
   ]
  },
  {
   "cell_type": "code",
   "execution_count": 58,
   "metadata": {
    "jupyter": {
     "outputs_hidden": true
    }
   },
   "outputs": [],
   "source": [
    "#Dados de autenticação do twitter:\n",
    "\n",
    "#Coloque aqui o identificador da conta no twitter: @JoaoAnd93050623\n",
    "\n",
    "#leitura do arquivo no formato JSON\n",
    "with open('auth.pass') as fp:    \n",
    "    data = json.load(fp)\n",
    "\n",
    "#Configurando a biblioteca. Não modificar\n",
    "auth = tweepy.OAuthHandler(data['consumer_key'], data['consumer_secret'])\n",
    "auth.set_access_token(data['access_token'], data['access_token_secret'])"
   ]
  },
  {
   "cell_type": "markdown",
   "metadata": {},
   "source": [
    "___\n",
    "## Etapas do projeto:"
   ]
  },
  {
   "cell_type": "markdown",
   "metadata": {},
   "source": [
    "### Escolha de um produto e coleta das mensagens\n"
   ]
  },
  {
   "cell_type": "code",
   "execution_count": 59,
   "metadata": {
    "jupyter": {
     "outputs_hidden": true
    }
   },
   "outputs": [],
   "source": [
    "#Produto escolhido:\n",
    "produto = 'SPTrans'\n",
    "\n",
    "#Quantidade mínima de mensagens capturadas:\n",
    "n = 500\n",
    "#Quantidade mínima de mensagens para a base de treinamento:\n",
    "t = 300\n",
    "\n",
    "#Filtro de língua, escolha uma na tabela ISO 639-1.\n",
    "lang = 'pt'"
   ]
  },
  {
   "cell_type": "markdown",
   "metadata": {},
   "source": [
    "Capturando os dados do twitter:"
   ]
  },
  {
   "cell_type": "code",
   "execution_count": 64,
   "metadata": {
    "jupyter": {
     "outputs_hidden": true
    }
   },
   "outputs": [],
   "source": [
    "#Cria um objeto para a captura\n",
    "api = tweepy.API(auth)\n",
    "\n",
    "\n",
    "#Inicia a captura, para mais detalhes: ver a documentação do tweepy\n",
    "i = 1\n",
    "msgs = []\n",
    "for msg in tweepy.Cursor(api.search, q=produto, lang=lang, tweet_mode='extended').items():  \n",
    "    if (not msg.retweeted) and ('RT' not in msg.full_text) and msg.author.screen_name != \"sptrans\": \n",
    "        msgs.append(msg.full_text.lower())\n",
    "        i += 1\n",
    "    if i > n:\n",
    "        break\n",
    "\n",
    "#Embaralhando as mensagens para reduzir um possível viés\n",
    "shuffle(msgs)"
   ]
  },
  {
   "cell_type": "markdown",
   "metadata": {},
   "source": [
    "Salvando os dados em uma planilha Excel:"
   ]
  },
  {
   "cell_type": "code",
   "execution_count": 65,
   "metadata": {
    "jupyter": {
     "outputs_hidden": true
    }
   },
   "outputs": [
    {
     "name": "stderr",
     "output_type": "stream",
     "text": [
      "C:\\Users\\crazy\\AppData\\Local\\Continuum\\anaconda3\\lib\\site-packages\\xlsxwriter\\worksheet.py:912: UserWarning: Ignoring URL 'https://t.co/fjla1rzemh%20%20%20\n",
      "\n",
      "olá%20@sptrans%20precisamos%20de%20mais%20transporte%20público%20para%20os%20cidadãos%20e%20não%20a%20redução%20das%20frotas,%20ainda%20mais%20de%20linhas%20tão%20sobrecarregadas.%20como%20a%20diminuição%20de%20saídas%20do%20637a-26.\n",
      "\n",
      "' with link or location/anchor > 255 characters since it exceeds Excel's limit for URLS\n",
      "  force_unicode(url))\n"
     ]
    }
   ],
   "source": [
    "#Verifica se o arquivo não existe para não substituir um conjunto pronto\n",
    "if not os.path.isfile('./{0}.xlsx'.format(produto)):\n",
    "    \n",
    "    #Abre o arquivo para escrita\n",
    "    writer = pd.ExcelWriter('{0}.xlsx'.format(produto))\n",
    "\n",
    "    #divide o conjunto de mensagens em duas planilhas\n",
    "    dft = pd.DataFrame({'Treinamento' : pd.Series(msgs[:t])})\n",
    "    dft.to_excel(excel_writer = writer, sheet_name = 'Treinamento', index = False)\n",
    "\n",
    "    dfc = pd.DataFrame({'Teste' : pd.Series(msgs[t:])})\n",
    "    dfc.to_excel(excel_writer = writer, sheet_name = 'Teste', index = False)\n",
    "\n",
    "    #fecha o arquivo\n",
    "    writer.save()"
   ]
  },
  {
   "cell_type": "markdown",
   "metadata": {},
   "source": [
    "___\n",
    "### Classificando as mensagens na coragem\n",
    "\n",
    "Esta etapa é manual. Faça a mesma pelo Excel."
   ]
  },
  {
   "cell_type": "code",
   "execution_count": 123,
   "metadata": {},
   "outputs": [],
   "source": [
    "SPTrans = pd.read_excel('SPTrans.xlsx')\n",
    "SPTrans_I = SPTrans[SPTrans.Classificacao == \"I\"]\n",
    "SPTrans_R = SPTrans[SPTrans.Classificacao == \"R\"]\n",
    "SPTrans_R = SPTrans_R.reset_index()\n",
    "SPTrans_R = SPTrans_R.drop(columns = [\"index\"])\n",
    "SPTrans_I = SPTrans_I.reset_index()\n",
    "SPTrans_I = SPTrans_I.drop(columns = [\"index\"])\n",
    "Irrelevantes_raw = []\n",
    "Relevantes_raw = []"
   ]
  },
  {
   "cell_type": "code",
   "execution_count": 118,
   "metadata": {},
   "outputs": [
    {
     "data": {
      "text/html": [
       "<div>\n",
       "<style scoped>\n",
       "    .dataframe tbody tr th:only-of-type {\n",
       "        vertical-align: middle;\n",
       "    }\n",
       "\n",
       "    .dataframe tbody tr th {\n",
       "        vertical-align: top;\n",
       "    }\n",
       "\n",
       "    .dataframe thead th {\n",
       "        text-align: right;\n",
       "    }\n",
       "</style>\n",
       "<table border=\"1\" class=\"dataframe\">\n",
       "  <thead>\n",
       "    <tr style=\"text-align: right;\">\n",
       "      <th></th>\n",
       "      <th>Treinamento</th>\n",
       "      <th>Classificacao</th>\n",
       "    </tr>\n",
       "  </thead>\n",
       "  <tbody>\n",
       "    <tr>\n",
       "      <th>0</th>\n",
       "      <td>@joelspinelli @sptrans boa sorte para encontra...</td>\n",
       "      <td>R</td>\n",
       "    </tr>\n",
       "    <tr>\n",
       "      <th>1</th>\n",
       "      <td>@sptrans não vou perder o meu tempo! vocês só ...</td>\n",
       "      <td>R</td>\n",
       "    </tr>\n",
       "    <tr>\n",
       "      <th>2</th>\n",
       "      <td>@sptrans essas mudanças no vt são ridículas, n...</td>\n",
       "      <td>R</td>\n",
       "    </tr>\n",
       "    <tr>\n",
       "      <th>3</th>\n",
       "      <td>alô @sptrans problemas no site para cadastro d...</td>\n",
       "      <td>R</td>\n",
       "    </tr>\n",
       "    <tr>\n",
       "      <th>4</th>\n",
       "      <td>#sptrans o que acontece dessa vez? ou outra ve...</td>\n",
       "      <td>R</td>\n",
       "    </tr>\n",
       "    <tr>\n",
       "      <th>5</th>\n",
       "      <td>@sptrans qdo coloco a data aparece essa mensag...</td>\n",
       "      <td>R</td>\n",
       "    </tr>\n",
       "    <tr>\n",
       "      <th>6</th>\n",
       "      <td>@sptrans\\n \\n3 carros da linha 3459-10 passara...</td>\n",
       "      <td>R</td>\n",
       "    </tr>\n",
       "    <tr>\n",
       "      <th>7</th>\n",
       "      <td>paralisação \\napós conversar com alguns motori...</td>\n",
       "      <td>R</td>\n",
       "    </tr>\n",
       "    <tr>\n",
       "      <th>8</th>\n",
       "      <td>eu tento frequentar as aulas mas ai a sptrans ...</td>\n",
       "      <td>R</td>\n",
       "    </tr>\n",
       "    <tr>\n",
       "      <th>9</th>\n",
       "      <td>parabéns aos responsáveis que cobram muito e n...</td>\n",
       "      <td>R</td>\n",
       "    </tr>\n",
       "    <tr>\n",
       "      <th>10</th>\n",
       "      <td>@sptrans esse link que está no post não tem in...</td>\n",
       "      <td>R</td>\n",
       "    </tr>\n",
       "    <tr>\n",
       "      <th>11</th>\n",
       "      <td>@sptrans tá tendo greve de ônibus? a consolaçã...</td>\n",
       "      <td>R</td>\n",
       "    </tr>\n",
       "    <tr>\n",
       "      <th>12</th>\n",
       "      <td>@sptrans difícil é vcs responde</td>\n",
       "      <td>R</td>\n",
       "    </tr>\n",
       "    <tr>\n",
       "      <th>13</th>\n",
       "      <td>@sptrans isso é um ônibus em condição digna de...</td>\n",
       "      <td>R</td>\n",
       "    </tr>\n",
       "    <tr>\n",
       "      <th>14</th>\n",
       "      <td>@metrosp_oficial @sptrans som do metrô anuncia...</td>\n",
       "      <td>R</td>\n",
       "    </tr>\n",
       "    <tr>\n",
       "      <th>15</th>\n",
       "      <td>aqui no terminal parque dom pedro  a linha 258...</td>\n",
       "      <td>R</td>\n",
       "    </tr>\n",
       "    <tr>\n",
       "      <th>16</th>\n",
       "      <td>@sptrans tudo isso pra me dar uma resposta aut...</td>\n",
       "      <td>R</td>\n",
       "    </tr>\n",
       "    <tr>\n",
       "      <th>17</th>\n",
       "      <td>@andrezadelgado ja desisti da sptrans, eu pagu...</td>\n",
       "      <td>R</td>\n",
       "    </tr>\n",
       "    <tr>\n",
       "      <th>18</th>\n",
       "      <td>mais uma vez sem ônibus!!! aqui no jardim rinc...</td>\n",
       "      <td>R</td>\n",
       "    </tr>\n",
       "    <tr>\n",
       "      <th>19</th>\n",
       "      <td>#bdsp alô @rodrigobocardi e @gloria_vanique .....</td>\n",
       "      <td>R</td>\n",
       "    </tr>\n",
       "    <tr>\n",
       "      <th>20</th>\n",
       "      <td>@sptrans @metrosp_oficial as máquinas de coloc...</td>\n",
       "      <td>R</td>\n",
       "    </tr>\n",
       "    <tr>\n",
       "      <th>21</th>\n",
       "      <td>a atendente da sptrans no terminal bandeira in...</td>\n",
       "      <td>R</td>\n",
       "    </tr>\n",
       "    <tr>\n",
       "      <th>22</th>\n",
       "      <td>namoral quero mto q todos os sptrans morram pq...</td>\n",
       "      <td>R</td>\n",
       "    </tr>\n",
       "    <tr>\n",
       "      <th>23</th>\n",
       "      <td>deveria ser proibido mulher ficar na cola do m...</td>\n",
       "      <td>R</td>\n",
       "    </tr>\n",
       "    <tr>\n",
       "      <th>24</th>\n",
       "      <td>galera. não é do nada. o covas quer reduzir a ...</td>\n",
       "      <td>R</td>\n",
       "    </tr>\n",
       "    <tr>\n",
       "      <th>25</th>\n",
       "      <td>é um absurdo isso... #sptrans https://t.co/bwi...</td>\n",
       "      <td>R</td>\n",
       "    </tr>\n",
       "    <tr>\n",
       "      <th>26</th>\n",
       "      <td>mano do ceu quase q nao volto pra casa hj\\n\\ns...</td>\n",
       "      <td>R</td>\n",
       "    </tr>\n",
       "    <tr>\n",
       "      <th>27</th>\n",
       "      <td>@sptrans essa gestão do senhor @brunocovas se ...</td>\n",
       "      <td>R</td>\n",
       "    </tr>\n",
       "    <tr>\n",
       "      <th>28</th>\n",
       "      <td>@sptrans combatendo a segregação com mais segr...</td>\n",
       "      <td>R</td>\n",
       "    </tr>\n",
       "    <tr>\n",
       "      <th>29</th>\n",
       "      <td>@sptrans vocês poderiam, por gentileza, me env...</td>\n",
       "      <td>R</td>\n",
       "    </tr>\n",
       "    <tr>\n",
       "      <th>...</th>\n",
       "      <td>...</td>\n",
       "      <td>...</td>\n",
       "    </tr>\n",
       "    <tr>\n",
       "      <th>112</th>\n",
       "      <td>@sptrans pode me ajudar colocando ônibus desce...</td>\n",
       "      <td>R</td>\n",
       "    </tr>\n",
       "    <tr>\n",
       "      <th>113</th>\n",
       "      <td>como a @sptrans é a escória do mundo!</td>\n",
       "      <td>R</td>\n",
       "    </tr>\n",
       "    <tr>\n",
       "      <th>114</th>\n",
       "      <td>@sptrans hj só pq está chovendo motoristas est...</td>\n",
       "      <td>R</td>\n",
       "    </tr>\n",
       "    <tr>\n",
       "      <th>115</th>\n",
       "      <td>@sptrans se for pelo 156...nao percam  tempo, ...</td>\n",
       "      <td>R</td>\n",
       "    </tr>\n",
       "    <tr>\n",
       "      <th>116</th>\n",
       "      <td>ta passando aqui no jornal a situação crítica ...</td>\n",
       "      <td>R</td>\n",
       "    </tr>\n",
       "    <tr>\n",
       "      <th>117</th>\n",
       "      <td>@ser1conservador @sptrans @brunocovas faltam 3...</td>\n",
       "      <td>R</td>\n",
       "    </tr>\n",
       "    <tr>\n",
       "      <th>118</th>\n",
       "      <td>quer dizer, o sendentarismo vai morrer comigo ...</td>\n",
       "      <td>R</td>\n",
       "    </tr>\n",
       "    <tr>\n",
       "      <th>119</th>\n",
       "      <td>@sptrans já deixei queixa e não ajudou nada! v...</td>\n",
       "      <td>R</td>\n",
       "    </tr>\n",
       "    <tr>\n",
       "      <th>120</th>\n",
       "      <td>se eu atrasar hj eu vou matar a sptrans</td>\n",
       "      <td>R</td>\n",
       "    </tr>\n",
       "    <tr>\n",
       "      <th>121</th>\n",
       "      <td>@sptrans em qual quadro me encaixo?\\nporque no...</td>\n",
       "      <td>R</td>\n",
       "    </tr>\n",
       "    <tr>\n",
       "      <th>122</th>\n",
       "      <td>@sptrans obrigado por bloquear meu cartão! e e...</td>\n",
       "      <td>R</td>\n",
       "    </tr>\n",
       "    <tr>\n",
       "      <th>123</th>\n",
       "      <td>@sptrans essa gestão covas e a pior que são pa...</td>\n",
       "      <td>R</td>\n",
       "    </tr>\n",
       "    <tr>\n",
       "      <th>124</th>\n",
       "      <td>@sptrans ônibus 5652_10 praca da  se ...63721....</td>\n",
       "      <td>R</td>\n",
       "    </tr>\n",
       "    <tr>\n",
       "      <th>125</th>\n",
       "      <td>@sptrans linha 875c terminal lapa metrô santa ...</td>\n",
       "      <td>R</td>\n",
       "    </tr>\n",
       "    <tr>\n",
       "      <th>126</th>\n",
       "      <td>sptrans ta de sacanagem, um ano pra liberar me...</td>\n",
       "      <td>R</td>\n",
       "    </tr>\n",
       "    <tr>\n",
       "      <th>127</th>\n",
       "      <td>@radiotransitofm que beleza @sptrans @prefsp @...</td>\n",
       "      <td>R</td>\n",
       "    </tr>\n",
       "    <tr>\n",
       "      <th>128</th>\n",
       "      <td>@sptrans e ponto com camelôs ocupando espaço d...</td>\n",
       "      <td>R</td>\n",
       "    </tr>\n",
       "    <tr>\n",
       "      <th>129</th>\n",
       "      <td>@sptrans os ônibus ja são um lixo hoje peguei ...</td>\n",
       "      <td>R</td>\n",
       "    </tr>\n",
       "    <tr>\n",
       "      <th>130</th>\n",
       "      <td>@sptrans vcs colocam novas máquinas e nenhuma ...</td>\n",
       "      <td>R</td>\n",
       "    </tr>\n",
       "    <tr>\n",
       "      <th>131</th>\n",
       "      <td>@sptrans favor treinar e orientar melhor seus ...</td>\n",
       "      <td>R</td>\n",
       "    </tr>\n",
       "    <tr>\n",
       "      <th>132</th>\n",
       "      <td>passei no sptrans, na triagem, para pedir info...</td>\n",
       "      <td>R</td>\n",
       "    </tr>\n",
       "    <tr>\n",
       "      <th>133</th>\n",
       "      <td>eu tô muito triste por ter que faltar na aula ...</td>\n",
       "      <td>R</td>\n",
       "    </tr>\n",
       "    <tr>\n",
       "      <th>134</th>\n",
       "      <td>#bdsp mais uma vez sem ônibus!!! aqui no jardi...</td>\n",
       "      <td>R</td>\n",
       "    </tr>\n",
       "    <tr>\n",
       "      <th>135</th>\n",
       "      <td>mais uma vez o ônibus da @sptrans quebrou, o c...</td>\n",
       "      <td>R</td>\n",
       "    </tr>\n",
       "    <tr>\n",
       "      <th>136</th>\n",
       "      <td>@sptrans @rodrigobocardi @gloria_vanique data ...</td>\n",
       "      <td>R</td>\n",
       "    </tr>\n",
       "    <tr>\n",
       "      <th>137</th>\n",
       "      <td>@sptrans alô sp trans, já estamos em 2019 e só...</td>\n",
       "      <td>R</td>\n",
       "    </tr>\n",
       "    <tr>\n",
       "      <th>138</th>\n",
       "      <td>vou ter que faltar hoje porque estou sem dinhe...</td>\n",
       "      <td>R</td>\n",
       "    </tr>\n",
       "    <tr>\n",
       "      <th>139</th>\n",
       "      <td>@sptrans cadê o ônibus linha 297a-10  já faz m...</td>\n",
       "      <td>R</td>\n",
       "    </tr>\n",
       "    <tr>\n",
       "      <th>140</th>\n",
       "      <td>tive que vir na sptrans pq meu bilhete só viro...</td>\n",
       "      <td>R</td>\n",
       "    </tr>\n",
       "    <tr>\n",
       "      <th>141</th>\n",
       "      <td>@sptrans bilhete inválido \\ncomo se ele não es...</td>\n",
       "      <td>R</td>\n",
       "    </tr>\n",
       "  </tbody>\n",
       "</table>\n",
       "<p>142 rows × 2 columns</p>\n",
       "</div>"
      ],
      "text/plain": [
       "                                           Treinamento Classificacao\n",
       "0    @joelspinelli @sptrans boa sorte para encontra...             R\n",
       "1    @sptrans não vou perder o meu tempo! vocês só ...             R\n",
       "2    @sptrans essas mudanças no vt são ridículas, n...             R\n",
       "3    alô @sptrans problemas no site para cadastro d...             R\n",
       "4    #sptrans o que acontece dessa vez? ou outra ve...             R\n",
       "5    @sptrans qdo coloco a data aparece essa mensag...             R\n",
       "6    @sptrans\\n \\n3 carros da linha 3459-10 passara...             R\n",
       "7    paralisação \\napós conversar com alguns motori...             R\n",
       "8    eu tento frequentar as aulas mas ai a sptrans ...             R\n",
       "9    parabéns aos responsáveis que cobram muito e n...             R\n",
       "10   @sptrans esse link que está no post não tem in...             R\n",
       "11   @sptrans tá tendo greve de ônibus? a consolaçã...             R\n",
       "12                     @sptrans difícil é vcs responde             R\n",
       "13   @sptrans isso é um ônibus em condição digna de...             R\n",
       "14   @metrosp_oficial @sptrans som do metrô anuncia...             R\n",
       "15   aqui no terminal parque dom pedro  a linha 258...             R\n",
       "16   @sptrans tudo isso pra me dar uma resposta aut...             R\n",
       "17   @andrezadelgado ja desisti da sptrans, eu pagu...             R\n",
       "18   mais uma vez sem ônibus!!! aqui no jardim rinc...             R\n",
       "19   #bdsp alô @rodrigobocardi e @gloria_vanique .....             R\n",
       "20   @sptrans @metrosp_oficial as máquinas de coloc...             R\n",
       "21   a atendente da sptrans no terminal bandeira in...             R\n",
       "22   namoral quero mto q todos os sptrans morram pq...             R\n",
       "23   deveria ser proibido mulher ficar na cola do m...             R\n",
       "24   galera. não é do nada. o covas quer reduzir a ...             R\n",
       "25   é um absurdo isso... #sptrans https://t.co/bwi...             R\n",
       "26   mano do ceu quase q nao volto pra casa hj\\n\\ns...             R\n",
       "27   @sptrans essa gestão do senhor @brunocovas se ...             R\n",
       "28   @sptrans combatendo a segregação com mais segr...             R\n",
       "29   @sptrans vocês poderiam, por gentileza, me env...             R\n",
       "..                                                 ...           ...\n",
       "112  @sptrans pode me ajudar colocando ônibus desce...             R\n",
       "113              como a @sptrans é a escória do mundo!             R\n",
       "114  @sptrans hj só pq está chovendo motoristas est...             R\n",
       "115  @sptrans se for pelo 156...nao percam  tempo, ...             R\n",
       "116  ta passando aqui no jornal a situação crítica ...             R\n",
       "117  @ser1conservador @sptrans @brunocovas faltam 3...             R\n",
       "118  quer dizer, o sendentarismo vai morrer comigo ...             R\n",
       "119  @sptrans já deixei queixa e não ajudou nada! v...             R\n",
       "120            se eu atrasar hj eu vou matar a sptrans             R\n",
       "121  @sptrans em qual quadro me encaixo?\\nporque no...             R\n",
       "122  @sptrans obrigado por bloquear meu cartão! e e...             R\n",
       "123  @sptrans essa gestão covas e a pior que são pa...             R\n",
       "124  @sptrans ônibus 5652_10 praca da  se ...63721....             R\n",
       "125  @sptrans linha 875c terminal lapa metrô santa ...             R\n",
       "126  sptrans ta de sacanagem, um ano pra liberar me...             R\n",
       "127  @radiotransitofm que beleza @sptrans @prefsp @...             R\n",
       "128  @sptrans e ponto com camelôs ocupando espaço d...             R\n",
       "129  @sptrans os ônibus ja são um lixo hoje peguei ...             R\n",
       "130  @sptrans vcs colocam novas máquinas e nenhuma ...             R\n",
       "131  @sptrans favor treinar e orientar melhor seus ...             R\n",
       "132  passei no sptrans, na triagem, para pedir info...             R\n",
       "133  eu tô muito triste por ter que faltar na aula ...             R\n",
       "134  #bdsp mais uma vez sem ônibus!!! aqui no jardi...             R\n",
       "135  mais uma vez o ônibus da @sptrans quebrou, o c...             R\n",
       "136  @sptrans @rodrigobocardi @gloria_vanique data ...             R\n",
       "137  @sptrans alô sp trans, já estamos em 2019 e só...             R\n",
       "138  vou ter que faltar hoje porque estou sem dinhe...             R\n",
       "139  @sptrans cadê o ônibus linha 297a-10  já faz m...             R\n",
       "140  tive que vir na sptrans pq meu bilhete só viro...             R\n",
       "141  @sptrans bilhete inválido \\ncomo se ele não es...             R\n",
       "\n",
       "[142 rows x 2 columns]"
      ]
     },
     "execution_count": 118,
     "metadata": {},
     "output_type": "execute_result"
    }
   ],
   "source": [
    "SPTrans_R"
   ]
  },
  {
   "cell_type": "code",
   "execution_count": 124,
   "metadata": {},
   "outputs": [],
   "source": [
    "for i in range(0, len(SPTrans_R.Treinamento)):\n",
    "    Relevantes_raw.append(SPTrans_R.Treinamento[i])\n",
    "for i in range(0, len(SPTrans_I.Treinamento)):\n",
    "    Irrelevantes_raw.append(SPTrans_I.Treinamento[i])"
   ]
  },
  {
   "cell_type": "code",
   "execution_count": 149,
   "metadata": {},
   "outputs": [],
   "source": [
    "import re \n",
    "\n",
    "def cleanup(text):\n",
    "    \"\"\"\n",
    "        Função de limpeza muito simples que troca alguns sinais básicos por espaços\n",
    "    \"\"\"\n",
    "    import string\n",
    "    punctuation = '[!-.:?;]' # Note que os sinais [] são delimitadores de um conjunto.\n",
    "    pattern = re.compile(punctuation)\n",
    "    text = ' '.join(word for word in text.split() if not word.startswith('https'))\n",
    "    text = ' '.join(word for word in text.split() if not word.startswith('@'))\n",
    "    text_subbed = re.sub(pattern, ' ', text)\n",
    "    return text_subbed  "
   ]
  },
  {
   "cell_type": "code",
   "execution_count": 152,
   "metadata": {},
   "outputs": [],
   "source": [
    "Relevantes_raw_txt = ', '.join(Relevantes_raw)\n",
    "Irrelevantes_raw_txt = ','.join(str(v) for v in Irrelevantes_raw)\n",
    "Relevantes = cleanup(Relevantes_raw_txt.lower())\n",
    "Irrelevantes = cleanup(Relevantes_raw_txt.lower())"
   ]
  },
  {
   "cell_type": "code",
   "execution_count": 157,
   "metadata": {},
   "outputs": [],
   "source": [
    "Serie_Relevantes  = pd.Series(Relevantes.split())\n",
    "Tabela_Relevantes = Serie_Relevantes.value_counts()\n",
    "Serie_Irrelevantes  = pd.Series(Irrelevantes.split())\n",
    "Tabela_Irrelevantes = Serie_Irrelevantes.value_counts()"
   ]
  },
  {
   "cell_type": "markdown",
   "metadata": {},
   "source": [
    "___\n",
    "### Montando o Classificador Naive-Bayes\n",
    "\n",
    "Considerando apenas as mensagens da planilha Treinamento, ensine  seu classificador."
   ]
  },
  {
   "cell_type": "code",
   "execution_count": null,
   "metadata": {},
   "outputs": [],
   "source": []
  },
  {
   "cell_type": "code",
   "execution_count": null,
   "metadata": {},
   "outputs": [],
   "source": []
  },
  {
   "cell_type": "code",
   "execution_count": null,
   "metadata": {},
   "outputs": [],
   "source": []
  },
  {
   "cell_type": "markdown",
   "metadata": {},
   "source": [
    "___\n",
    "### Verificando a performance\n",
    "\n",
    "Agora você deve testar o seu classificador com a base de Testes."
   ]
  },
  {
   "cell_type": "code",
   "execution_count": null,
   "metadata": {},
   "outputs": [],
   "source": []
  },
  {
   "cell_type": "code",
   "execution_count": null,
   "metadata": {},
   "outputs": [],
   "source": []
  },
  {
   "cell_type": "code",
   "execution_count": null,
   "metadata": {},
   "outputs": [],
   "source": []
  },
  {
   "cell_type": "markdown",
   "metadata": {},
   "source": [
    "___\n",
    "### Concluindo"
   ]
  },
  {
   "cell_type": "code",
   "execution_count": null,
   "metadata": {},
   "outputs": [],
   "source": []
  },
  {
   "cell_type": "code",
   "execution_count": null,
   "metadata": {},
   "outputs": [],
   "source": []
  },
  {
   "cell_type": "markdown",
   "metadata": {},
   "source": [
    "## Aperfeiçoamento:\n",
    "\n",
    "Os trabalhos vão evoluir em conceito dependendo da quantidade de itens avançados:\n",
    "\n",
    "* Limpar: \\n, :, \", ', (, ), etc SEM remover emojis\n",
    "* Corrigir separação de espaços entre palavras e emojis ou emojis e emojis\n",
    "* Propor outras limpezas e transformações que não afetem a qualidade da informação ou classificação\n",
    "* Criar categorias intermediárias de relevância baseadas na probabilidade: ex.: muito relevante, relevante, neutro, irrelevante, muito irrelevante (3 categorias: C, mais categorias conta para B)\n",
    "* Explicar por que não posso usar o próprio classificador para gerar mais amostras de treinamento\n",
    "* Propor diferentes cenários para Naïve Bayes fora do contexto do projeto\n",
    "* Sugerir e explicar melhorias reais com indicações concretas de como implementar (indicar como fazer e indicar material de pesquisa)\n",
    "* Montar um dashboard que periodicamente realiza análise de sentimento e visualiza estes dados"
   ]
  },
  {
   "cell_type": "markdown",
   "metadata": {},
   "source": [
    "# Referências"
   ]
  },
  {
   "cell_type": "markdown",
   "metadata": {},
   "source": [
    "[Naive Bayes and Text Classification](https://arxiv.org/pdf/1410.5329.pdf)  **Mais completo**\n",
    "\n",
    "[A practical explanation of a Naive Bayes Classifier](https://monkeylearn.com/blog/practical-explanation-naive-bayes-classifier/) **Mais simples**"
   ]
  },
  {
   "cell_type": "code",
   "execution_count": null,
   "metadata": {},
   "outputs": [],
   "source": []
  }
 ],
 "metadata": {
  "kernelspec": {
   "display_name": "Python 3",
   "language": "python",
   "name": "python3"
  },
  "language_info": {
   "codemirror_mode": {
    "name": "ipython",
    "version": 3
   },
   "file_extension": ".py",
   "mimetype": "text/x-python",
   "name": "python",
   "nbconvert_exporter": "python",
   "pygments_lexer": "ipython3",
   "version": "3.7.1"
  }
 },
 "nbformat": 4,
 "nbformat_minor": 4
}
